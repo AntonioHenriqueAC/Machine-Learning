{
  "nbformat": 4,
  "nbformat_minor": 0,
  "metadata": {
    "colab": {
      "name": "Project.ipynb",
      "provenance": [],
      "authorship_tag": "ABX9TyPBqOv/vi89tvrvQiIpxecW",
      "include_colab_link": true
    },
    "kernelspec": {
      "name": "python3",
      "display_name": "Python 3"
    }
  },
  "cells": [
    {
      "cell_type": "markdown",
      "metadata": {
        "id": "view-in-github",
        "colab_type": "text"
      },
      "source": [
        "<a href=\"https://colab.research.google.com/github/AntonioHenriqueAC/Machine-Learning/blob/master/Project.ipynb\" target=\"_parent\"><img src=\"https://colab.research.google.com/assets/colab-badge.svg\" alt=\"Open In Colab\"/></a>"
      ]
    },
    {
      "cell_type": "markdown",
      "metadata": {
        "id": "YwM17itSZ59-",
        "colab_type": "text"
      },
      "source": [
        "# Baixando as bibliotecas necessárias"
      ]
    },
    {
      "cell_type": "code",
      "metadata": {
        "id": "-J-gpbtHZYEr",
        "colab_type": "code",
        "colab": {}
      },
      "source": [
        "!pip3 install tensorflow-gpu==1.13.1"
      ],
      "execution_count": 0,
      "outputs": []
    },
    {
      "cell_type": "code",
      "metadata": {
        "id": "KsVkPKMSTM9Y",
        "colab_type": "code",
        "colab": {}
      },
      "source": [
        "!pip3 install imageai --upgrade"
      ],
      "execution_count": 0,
      "outputs": []
    },
    {
      "cell_type": "code",
      "metadata": {
        "id": "HrlqzmpFdSe6",
        "colab_type": "code",
        "colab": {}
      },
      "source": [
        "!wget https://github.com/AntonioHenriqueAC/tcc/releases/download/1.0/Colab.zip\n",
        "!unzip \"Colab.zip\"\n",
        "!rm -rf Colab.zip"
      ],
      "execution_count": 0,
      "outputs": []
    },
    {
      "cell_type": "markdown",
      "metadata": {
        "colab_type": "text",
        "id": "vrORS3j1LJ5m"
      },
      "source": [
        "# Indetificação dos Barcodes\n"
      ]
    },
    {
      "cell_type": "markdown",
      "metadata": {
        "id": "_rlvhItUdl5r",
        "colab_type": "text"
      },
      "source": [
        "## 1. Criando as pastas ##"
      ]
    },
    {
      "cell_type": "code",
      "metadata": {
        "id": "Dj95LnTcyrHl",
        "colab_type": "code",
        "colab": {}
      },
      "source": [
        "import os\n",
        "\n",
        "path, dirs, files = next(os.walk(\"Colab/Corridas\"))\n",
        "file_count_corridas = len(dirs)\n",
        "if(file_count_corridas == 0):\n",
        "  print(\"Número de corridas na pasta: \", file_count_corridas)\n",
        "  file_count_corridas = 1\n",
        "else:\n",
        "  print(\"Número de corridas na pasta: \", file_count_corridas)\n",
        "  file_count_corridas = len(dirs) + 1\n",
        "\n",
        "newFolderCorrida = str(file_count_corridas)\n",
        "folderCorrida = \"Colab/Corridas/Corrida_\" + newFolderCorrida\n",
        "print(\"..\")\n",
        "print(\"..\")\n",
        "print(\"..\")\n",
        "!mkdir $folderCorrida\n",
        "print(\"Criando pasta 'Corrida_\"+newFolderCorrida+\"'\")\n",
        "\n",
        "folderTagsJson = \"Colab/Corridas/Corrida_\" + newFolderCorrida + \"/tags_json\"\n",
        "print(\"..\")\n",
        "print(\"..\")\n",
        "print(\"..\")\n",
        "try:\n",
        "  !mkdir $folderTagsJson\n",
        "  print(\"Criando pasta '/tags_json'\")\n",
        "except:\n",
        "  print(\"Já existe a pasta '/tags_json'\")\n",
        "\n",
        "folderTagsDetected = \"Colab/Corridas/Corrida_\" + newFolderCorrida + \"/tags_detected\"\n",
        "print(\"..\")\n",
        "print(\"..\")\n",
        "print(\"..\")\n",
        "try:\n",
        "  !mkdir $folderTagsDetected\n",
        "  print(\"Criando pasta '/tags_detected'\")\n",
        "except:\n",
        "  print(\"Já existe a pasta '/tags_detected'\")\n",
        "\n",
        "print(\"..\")\n",
        "print(\"..\")\n",
        "print(\"..\")\n",
        "try:\n",
        "  !mkdir barcode-detected-objects\n",
        "  print(\"Criando pasta '/barcode-detected-objects'\")\n",
        "except:\n",
        "  print(\"Já existe a pasta '/barcode-detected-objects'\")"
      ],
      "execution_count": 0,
      "outputs": []
    },
    {
      "cell_type": "markdown",
      "metadata": {
        "colab_type": "text",
        "id": "SGJR89WNLLyl"
      },
      "source": [
        "## 2. Setando as variaveis ##\n"
      ]
    },
    {
      "cell_type": "code",
      "metadata": {
        "id": "Ehjz_R1Ixj7a",
        "colab_type": "code",
        "colab": {}
      },
      "source": [
        "modelPath = \"Colab/models/barcode/detection_model-ex-013--loss-0001.995.h5\"\n",
        "JsonPath = \"Colab/json/detection_config_barcode.json\"\n",
        "\n",
        "Image_Number = newFolderCorrida\n",
        "InputImage = \"Colab/Imagens_Originais/img\"+ Image_Number +\".jpg\""
      ],
      "execution_count": 0,
      "outputs": []
    },
    {
      "cell_type": "markdown",
      "metadata": {
        "id": "3OoA0NtvFhtG",
        "colab_type": "text"
      },
      "source": [
        "## 3. Função de interseção sobre união e Função de eliminar quadrados sobrepostos."
      ]
    },
    {
      "cell_type": "code",
      "metadata": {
        "id": "eRVMlsJKBtCn",
        "colab_type": "code",
        "colab": {}
      },
      "source": [
        "def bb_intersection_over_union(boxA, boxB):\n",
        "\t# determine the (x, y)-coordinates of the intersection rectangle\n",
        "\txA = max(boxA[0], boxB[0])\n",
        "\tyA = max(boxA[1], boxB[1])\n",
        "\txB = min(boxA[2], boxB[2])\n",
        "\tyB = min(boxA[3], boxB[3])\n",
        "\t# compute the area of intersection rectangle\n",
        "\tinterArea = max(0, xB - xA + 1) * max(0, yB - yA + 1)\n",
        "\t# compute the area of both the prediction\n",
        "\t# rectangles\n",
        "\tboxAArea = (boxA[2] - boxA[0] + 1) * (boxA[3] - boxA[1] + 1)\n",
        "\tboxBArea = (boxB[2] - boxB[0] + 1) * (boxB[3] - boxB[1] + 1)\n",
        "\t# compute the intersection over union by taking the intersection\n",
        "\t# area and dividing it by the sum of prediction\n",
        "\t# areas - the interesection area\n",
        "\tiou = interArea / float(boxAArea + boxBArea - interArea)\n",
        "\t# return the intersection over union value\n",
        "\treturn iou\n",
        "\n",
        "def boxArea(boxA, boxB):\n",
        "\tboxAArea = (boxA[2] - boxA[0] + 1) * (boxA[3] - boxA[1] + 1)\n",
        "\tboxBArea = (boxB[2] - boxB[0] + 1) * (boxB[3] - boxB[1] + 1)\n",
        "\treturn boxAArea/boxBArea\n",
        "\n",
        "def removeDuplicatesLoop(detections):\n",
        "\ti=0\n",
        "\tk=0\n",
        "\tfor i, detection in enumerate(detections):\n",
        "\t\tfor k, detection in enumerate(detections):\n",
        "\t\t\t\t\tinter = bb_intersection_over_union(detections[i][\"box_points\"] , detections[k][\"box_points\"])\n",
        "\t\t\t\t\tif(inter > float(0.01) and inter < float(1)):\n",
        "\t\t\t\t\t\tif(boxArea(detections[i][\"box_points\"] , detections[k][\"box_points\"]) > 1):\n",
        "\t\t\t\t\t\t\tdetections.pop(k)\n",
        "\t\t\t\t\t\telse:\n",
        "\t\t\t\t\t\t\tdetections.pop(i)\n",
        "\t\t\t\t\t\t\tremoveDuplicatesLoop(detections)"
      ],
      "execution_count": 0,
      "outputs": []
    },
    {
      "cell_type": "markdown",
      "metadata": {
        "id": "y_gJfJgSyLGi",
        "colab_type": "text"
      },
      "source": [
        "## 4. Treinando modelo e recortando os codigos de barras da imagem original ##\n"
      ]
    },
    {
      "cell_type": "code",
      "metadata": {
        "id": "VpWqhmsuw7DR",
        "colab_type": "code",
        "colab": {}
      },
      "source": [
        "from imageai.Detection.Custom import CustomObjectDetection\n",
        "from prettytable import PrettyTable\n",
        "\n",
        "detector = CustomObjectDetection()\n",
        "detector.setModelTypeAsYOLOv3()\n",
        "detector.setModelPath(modelPath)\n",
        "detector.setJsonPath(JsonPath)\n",
        "detector.loadModel()\n",
        "\n",
        "detections = detector.detectObjectsFromImage(input_image = InputImage, \n",
        "                                                           output_image_path=\"barcode-detected-OriginalBoxes.jpg\",\n",
        "                                                           minimum_percentage_probability=30)\n",
        "for e in detections:\n",
        "  e['box_points'][0] = e['box_points'][0] - 50 ## x1\n",
        "  e['box_points'][1] = e['box_points'][1] - 50 ## y1\n",
        "  e['box_points'][2] = e['box_points'][2] + 50 ## x2\n",
        "  e['box_points'][3] = e['box_points'][3] + 50 ## y2\n",
        "\n",
        "removeDuplicatesLoop(detections)\n",
        "\n",
        "header = PrettyTable([\"Nome\", \"Porcentagem \", \"box_points\"])\n",
        "for detection in detections:\n",
        "  header.add_row([detection[\"name\"], detection[\"percentage_probability\"], detection[\"box_points\"]])\n",
        "\n",
        "img = PrettyTable([\"                 Barcodes identificados                 \"])\n",
        "img.add_row([len(detections)])\n",
        "\n",
        "print(\"\")\n",
        "print(\"\")\n",
        "print(header)\n",
        "print(\"\")\n",
        "print(img)\n",
        "print(\"\")"
      ],
      "execution_count": 0,
      "outputs": []
    },
    {
      "cell_type": "markdown",
      "metadata": {
        "id": "1exgO4CtCSyM",
        "colab_type": "text"
      },
      "source": [
        "## 5. Identificando os Bounding Box e recortandando as imagens. "
      ]
    },
    {
      "cell_type": "code",
      "metadata": {
        "id": "AneEx6ffCSBT",
        "colab_type": "code",
        "colab": {}
      },
      "source": [
        "%matplotlib inline\n",
        "import numpy as np\n",
        "import skimage.io\n",
        "import matplotlib.pyplot as plt\n",
        "import skimage.segmentation\n",
        "import cv2\n",
        "\n",
        "Image_with_boxes = \"barcode-detected-OriginalBoxes.jpg\"\n",
        "\n",
        "img = skimage.io.imread(InputImage)\n",
        "bbox = []\n",
        "\n",
        "for e in detections:\n",
        "    bbox.append(e['box_points'])\n",
        "\n",
        "for i, (x1,y1,x2,y2) in enumerate(bbox):\n",
        "\n",
        "    if i in {0,1,2,3,4,5,6,7,8,9}:\n",
        "      i = '00' + str(i)\n",
        "    \n",
        "    if(int(i) > 9 and int(i) < 100):\n",
        "      i = '0' + str(i)\n",
        "\n",
        "    img2 = cv2.rectangle(img, (x1,y1), (x2,y2), (0,255,0), 0)\n",
        "    out = img[y1:y2, x1:x2]\n",
        "\n",
        "    cv2.imwrite('barcode-detected-objects/barcode-00'+str(i)+'.jpg', out)\n",
        "\n",
        "cv2.imwrite('barcode-detected-New.jpg', img)\n",
        "\n",
        "print(\"Boxes recortados com sucesso!\")\n",
        "print(\"..\")\n",
        "print(\"..\")\n",
        "print(\"..\")\n",
        "print(\"Imagem = 'barcode-detected-New.jpg' gerada.\")"
      ],
      "execution_count": 0,
      "outputs": []
    },
    {
      "cell_type": "markdown",
      "metadata": {
        "id": "UBueY6086TP4",
        "colab_type": "text"
      },
      "source": [
        "## 6. Movendo as pastas para o diretório correto. ##\n"
      ]
    },
    {
      "cell_type": "code",
      "metadata": {
        "id": "H_Q4bIO56SVM",
        "colab_type": "code",
        "colab": {
          "base_uri": "https://localhost:8080/",
          "height": 34
        },
        "outputId": "7cb4ca55-2003-48ec-c0d3-3456c7a10104"
      },
      "source": [
        "!mv /content/barcode-detected-OriginalBoxes.jpg $folderCorrida\n",
        "!mv /content/barcode-detected-New.jpg $folderCorrida\n",
        "!mv /content/barcode-detected-objects $folderCorrida\n",
        "\n",
        "barcode = \"Colab/Corridas/Corrida_\" + newFolderCorrida + \"/barcode-detected-objects\"\n",
        "images = \"Colab/Corridas/Corrida_\" + newFolderCorrida + \"/tags_images\"\n",
        "!mv  $barcode $images\n",
        "\n",
        "print(\"Pastas movidas para o drive com sucesso!\")"
      ],
      "execution_count": 31,
      "outputs": [
        {
          "output_type": "stream",
          "text": [
            "Pastas movidas para o drive com sucesso!\n"
          ],
          "name": "stdout"
        }
      ]
    },
    {
      "cell_type": "markdown",
      "metadata": {
        "id": "6w3W9w8Yf3GA",
        "colab_type": "text"
      },
      "source": [
        "# Identificação dos Números"
      ]
    },
    {
      "cell_type": "markdown",
      "metadata": {
        "id": "MkniXE6FJ5ce",
        "colab_type": "text"
      },
      "source": [
        "## 1. Contar numero de arquivos nas pastas"
      ]
    },
    {
      "cell_type": "code",
      "metadata": {
        "id": "81JB3JJq5PzZ",
        "colab_type": "code",
        "colab": {}
      },
      "source": [
        "import os\n",
        "from prettytable import PrettyTable\n",
        "\n",
        "path, dirs, files = next(os.walk(\"Colab/Corridas\"))\n",
        "pasta = PrettyTable([\"Corridas na pasta\", \"Status\"])\n",
        "for i in range(0, len(dirs)):\n",
        "  pathJSON, dirsJSON, filesJSON = next(os.walk(\"Colab/Corridas\"))\n",
        "  if(len(filesJSON)>0):\n",
        "    status = \"Treinada\"\n",
        "  else:\n",
        "    status = \"Inadimplente\"\n",
        "  pasta.add_row([dirs[i], status])\n",
        "\n",
        "print(\"\")\n",
        "print(pasta)\n",
        "print(\"\")\n",
        "print(\"\")\n",
        "print(\"Qual corrida deseja identificar? (Informe o número da pasta)\")\n",
        "corrida = input()\n",
        "print(\"\")\n",
        "\n",
        "path, dirs, files = next(os.walk(\"Colab/Corridas/Corrida_\" + str(corrida) +\"/tags_images\"))\n",
        "file_count_tag = len(files)\n",
        "tags = PrettyTable([\"Treinar\", \"Tags\"])\n",
        "tags.add_row([\"Corrida_\"+str(corrida), str(file_count_tag)])\n",
        "\n",
        "print(\"\")\n",
        "print(tags)\n",
        "print(\"\")"
      ],
      "execution_count": 0,
      "outputs": []
    },
    {
      "cell_type": "markdown",
      "metadata": {
        "id": "hlFi2WoA7GyV",
        "colab_type": "text"
      },
      "source": [
        "## 2. Função para fazer a diferença entre distancia dos números e deletar o de menor Acurácia"
      ]
    },
    {
      "cell_type": "code",
      "metadata": {
        "id": "At7vsua6DPoR",
        "colab_type": "code",
        "colab": {}
      },
      "source": [
        "def removeDuplicates():\n",
        "    i=0\n",
        "    for detection in detections:\n",
        "      if( i != len(detections)-1 ):\n",
        "          \n",
        "          Xa = (detections[i]['box_points'][0] + detections[i]['box_points'][2])/2\n",
        "          Ya = (detections[i]['box_points'][1] + detections[i]['box_points'][3])/2\n",
        "          Xb = (detections[i+1]['box_points'][0] + detections[i+1]['box_points'][2])/2\n",
        "          Yb = (detections[i+1]['box_points'][1] + detections[i+1]['box_points'][3])/2\n",
        "\n",
        "          Dab = ( (Xb-Xa)**2 + (Yb - Ya)**2 )**1/2\n",
        "          if(Dab < float(10)):\n",
        "              if(detections[i][\"percentage_probability\"] < detections[i+1][\"percentage_probability\"]):\n",
        "                  detections.pop(i)\n",
        "              else:\n",
        "                  detections.pop(i+1)\n",
        "      i=i+1"
      ],
      "execution_count": 0,
      "outputs": []
    },
    {
      "cell_type": "markdown",
      "metadata": {
        "id": "navr6QlOaGQ8",
        "colab_type": "text"
      },
      "source": [
        "## 3. Testando o modelo treina"
      ]
    },
    {
      "cell_type": "code",
      "metadata": {
        "id": "CXFVa3mKaGaU",
        "colab_type": "code",
        "colab": {}
      },
      "source": [
        "from imageai.Detection.Custom import CustomObjectDetection\n",
        "import json\n",
        "from prettytable import PrettyTable\n",
        "\n",
        "modelPath = \"Colab/models/number/detection_model-ex-034--loss-0012.508.h5\"\n",
        "JsonPath = \"Colab/json/detection_config_number.json\"\n",
        "\n",
        "detector = CustomObjectDetection()\n",
        "detector.setModelTypeAsYOLOv3()\n",
        "detector.setModelPath(modelPath)\n",
        "detector.setJsonPath(JsonPath)\n",
        "detector.loadModel()\n",
        "\n",
        "for x in range(file_count_tag):\n",
        "\n",
        "  i=0\n",
        "  soma=0\n",
        "  numero=''\n",
        "  execucoes = 0\n",
        "\n",
        "  if x in {0,1,2,3,4,5,6,7,8,9}:\n",
        "    x = '00' + str(x)\n",
        "  \n",
        "  if(int(x) > 9 and int(x) < 100):\n",
        "    x = '0' + str(x)\n",
        "\n",
        "  detections = detector.detectObjectsFromImage(input_image=\"Colab/Corridas/Corrida_\"+str(corrida)+\"/tags_images/barcode-00\"+str(x)+\".jpg\", \n",
        "                                          output_image_path=\"Colab/Corridas/Corrida_\"+str(corrida)+\"/tags_detected/digit-detected-\"+str(x)+\".jpg\", \n",
        "                                          display_percentage_probability=False, \n",
        "                                          minimum_percentage_probability=60)\n",
        "  def boxPoints(e):\n",
        "    return e['box_points']\n",
        "\n",
        "  detections.sort(key=boxPoints)\n",
        "\n",
        "  menor = 100\n",
        "  while(len(detections) > 13):\n",
        "    execucoes = execucoes + 1\n",
        "    if(execucoes>10000):\n",
        "      for i, detection in enumerate(detections):\n",
        "        if(menor > detections[i][\"percentage_probability\"]):\n",
        "          menor = detections[i][\"percentage_probability\"]   \n",
        "      for k, detection in enumerate(detections):\n",
        "        if(detections[k][\"percentage_probability\"] == menor):\n",
        "          detections.pop(k)\n",
        "      break\n",
        "    removeDuplicates()\n",
        "\n",
        "  img = PrettyTable([\"                     Imagem                    \"])\n",
        "  img.add_row([x])\n",
        "  header = PrettyTable([\"Número\", \"Porcentagem \", \"box_points\"])\n",
        "\n",
        "  for i in range(len(detections)):\n",
        "    if(detections[i][\"percentage_probability\"] < 99):\n",
        "      detections[i].update({\"alert\" : \"true\"})\n",
        "    else:\n",
        "      detections[i].update({\"alert\" : \"false\"})\n",
        "    header.add_row([detections[i][\"name\"], detections[i][\"percentage_probability\"], detections[i][\"box_points\"]])\n",
        "    soma = soma + detections[i][\"percentage_probability\"]\n",
        "    numero = numero + ''.join(detections[i][\"name\"])\n",
        "\n",
        "  if(len(detections) != 0):\n",
        "    media = soma/len(detections)\n",
        "  table = PrettyTable([\"Números\", \"Quantidade\", \"Média\"])\n",
        "  table.add_row([numero, len(detections), media])\n",
        "\n",
        "  print(\"\")\n",
        "  print(\"\")\n",
        "  print(img)\n",
        "  print(\"\")\n",
        "  print(header)\n",
        "  print(\"\")\n",
        "  print(table)\n",
        "  print(\"\")\n",
        "  print(\"\")\n",
        "  print(\"============================================================\")\n",
        "\n",
        "  media = {\"media\": media}\n",
        "  imagem = {\"imagem\": x}\n",
        "  numero = {\"numero\": numero}\n",
        "  detections.append(media)\n",
        "  detections.append(imagem)\n",
        "  detections.append(numero)\n",
        "\n",
        "  with open('Colab/Corridas/Corrida_'+str(corrida)+'/tags_json/tag-'+ str(x) +'.json', 'w', encoding='utf-8') as f:\n",
        "    json.dump(detections, f, ensure_ascii=False, indent=4)\n",
        "\n",
        "print(\"\")\n",
        "print(\"\")\n",
        "print(\"Corrida \"+str(corrida)+\" treinada com sucesso!!!\")"
      ],
      "execution_count": 0,
      "outputs": []
    }
  ]
}